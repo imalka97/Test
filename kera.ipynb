{
  "cells": [
    {
      "cell_type": "markdown",
      "metadata": {
        "id": "view-in-github",
        "colab_type": "text"
      },
      "source": [
        "<a href=\"https://colab.research.google.com/github/imalka97/Test/blob/master/kera.ipynb\" target=\"_parent\"><img src=\"https://colab.research.google.com/assets/colab-badge.svg\" alt=\"Open In Colab\"/></a>"
      ]
    },
    {
      "cell_type": "markdown",
      "id": "43488d88",
      "metadata": {
        "id": "43488d88"
      },
      "source": [
        "# Import libraries"
      ]
    },
    {
      "cell_type": "code",
      "execution_count": null,
      "id": "ed035890",
      "metadata": {
        "id": "ed035890"
      },
      "outputs": [],
      "source": [
        "import numpy as np  \n",
        "import pandas as pd  \n",
        "from keras.preprocessing.text import Tokenizer\n",
        "from keras.preprocessing.sequence import pad_sequences\n",
        "from nltk.tokenize import word_tokenize\n",
        "import re\n",
        "from nltk.stem import WordNetLemmatizer\n",
        "from nltk.corpus import stopwords\n",
        "import tensorflow as tf\n",
        "from tensorflow.keras.layers import *\n",
        "from tensorflow.keras.models import Model\n",
        "import os"
      ]
    },
    {
      "cell_type": "code",
      "source": [
        "from google.colab import drive\n",
        "drive.mount('/content/drive')"
      ],
      "metadata": {
        "colab": {
          "base_uri": "https://localhost:8080/"
        },
        "id": "x6yD5644GZw9",
        "outputId": "1b2d67ef-3568-4842-99ea-078ec96f6f6a"
      },
      "id": "x6yD5644GZw9",
      "execution_count": null,
      "outputs": [
        {
          "output_type": "stream",
          "name": "stdout",
          "text": [
            "Mounted at /content/drive\n"
          ]
        }
      ]
    },
    {
      "cell_type": "markdown",
      "id": "7ff1475a",
      "metadata": {
        "id": "7ff1475a"
      },
      "source": [
        "# Load data set"
      ]
    },
    {
      "cell_type": "code",
      "execution_count": null,
      "id": "172c36b2",
      "metadata": {
        "id": "172c36b2"
      },
      "outputs": [],
      "source": [
        "df = pd.read_csv('/content/drive/MyDrive/1Project/Model/train.csv')"
      ]
    },
    {
      "cell_type": "code",
      "execution_count": null,
      "id": "1c9e7d65",
      "metadata": {
        "colab": {
          "base_uri": "https://localhost:8080/",
          "height": 206
        },
        "id": "1c9e7d65",
        "outputId": "f59293ac-19a8-4810-9ba8-e93669bfca6c"
      },
      "outputs": [
        {
          "output_type": "execute_result",
          "data": {
            "text/plain": [
              "   id  qid1  qid2                                          question1  \\\n",
              "0   0     1     2  What is the step by step guide to invest in sh...   \n",
              "1   1     3     4  What is the story of Kohinoor (Koh-i-Noor) Dia...   \n",
              "2   2     5     6  How can I increase the speed of my internet co...   \n",
              "3   3     7     8  Why am I mentally very lonely? How can I solve...   \n",
              "4   4     9    10  Which one dissolve in water quikly sugar, salt...   \n",
              "\n",
              "                                           question2  is_duplicate  \n",
              "0  What is the step by step guide to invest in sh...             0  \n",
              "1  What would happen if the Indian government sto...             0  \n",
              "2  How can Internet speed be increased by hacking...             0  \n",
              "3  Find the remainder when [math]23^{24}[/math] i...             0  \n",
              "4            Which fish would survive in salt water?             0  "
            ],
            "text/html": [
              "\n",
              "  <div id=\"df-984060ef-0191-4304-9212-93acde0a7469\">\n",
              "    <div class=\"colab-df-container\">\n",
              "      <div>\n",
              "<style scoped>\n",
              "    .dataframe tbody tr th:only-of-type {\n",
              "        vertical-align: middle;\n",
              "    }\n",
              "\n",
              "    .dataframe tbody tr th {\n",
              "        vertical-align: top;\n",
              "    }\n",
              "\n",
              "    .dataframe thead th {\n",
              "        text-align: right;\n",
              "    }\n",
              "</style>\n",
              "<table border=\"1\" class=\"dataframe\">\n",
              "  <thead>\n",
              "    <tr style=\"text-align: right;\">\n",
              "      <th></th>\n",
              "      <th>id</th>\n",
              "      <th>qid1</th>\n",
              "      <th>qid2</th>\n",
              "      <th>question1</th>\n",
              "      <th>question2</th>\n",
              "      <th>is_duplicate</th>\n",
              "    </tr>\n",
              "  </thead>\n",
              "  <tbody>\n",
              "    <tr>\n",
              "      <th>0</th>\n",
              "      <td>0</td>\n",
              "      <td>1</td>\n",
              "      <td>2</td>\n",
              "      <td>What is the step by step guide to invest in sh...</td>\n",
              "      <td>What is the step by step guide to invest in sh...</td>\n",
              "      <td>0</td>\n",
              "    </tr>\n",
              "    <tr>\n",
              "      <th>1</th>\n",
              "      <td>1</td>\n",
              "      <td>3</td>\n",
              "      <td>4</td>\n",
              "      <td>What is the story of Kohinoor (Koh-i-Noor) Dia...</td>\n",
              "      <td>What would happen if the Indian government sto...</td>\n",
              "      <td>0</td>\n",
              "    </tr>\n",
              "    <tr>\n",
              "      <th>2</th>\n",
              "      <td>2</td>\n",
              "      <td>5</td>\n",
              "      <td>6</td>\n",
              "      <td>How can I increase the speed of my internet co...</td>\n",
              "      <td>How can Internet speed be increased by hacking...</td>\n",
              "      <td>0</td>\n",
              "    </tr>\n",
              "    <tr>\n",
              "      <th>3</th>\n",
              "      <td>3</td>\n",
              "      <td>7</td>\n",
              "      <td>8</td>\n",
              "      <td>Why am I mentally very lonely? How can I solve...</td>\n",
              "      <td>Find the remainder when [math]23^{24}[/math] i...</td>\n",
              "      <td>0</td>\n",
              "    </tr>\n",
              "    <tr>\n",
              "      <th>4</th>\n",
              "      <td>4</td>\n",
              "      <td>9</td>\n",
              "      <td>10</td>\n",
              "      <td>Which one dissolve in water quikly sugar, salt...</td>\n",
              "      <td>Which fish would survive in salt water?</td>\n",
              "      <td>0</td>\n",
              "    </tr>\n",
              "  </tbody>\n",
              "</table>\n",
              "</div>\n",
              "      <button class=\"colab-df-convert\" onclick=\"convertToInteractive('df-984060ef-0191-4304-9212-93acde0a7469')\"\n",
              "              title=\"Convert this dataframe to an interactive table.\"\n",
              "              style=\"display:none;\">\n",
              "        \n",
              "  <svg xmlns=\"http://www.w3.org/2000/svg\" height=\"24px\"viewBox=\"0 0 24 24\"\n",
              "       width=\"24px\">\n",
              "    <path d=\"M0 0h24v24H0V0z\" fill=\"none\"/>\n",
              "    <path d=\"M18.56 5.44l.94 2.06.94-2.06 2.06-.94-2.06-.94-.94-2.06-.94 2.06-2.06.94zm-11 1L8.5 8.5l.94-2.06 2.06-.94-2.06-.94L8.5 2.5l-.94 2.06-2.06.94zm10 10l.94 2.06.94-2.06 2.06-.94-2.06-.94-.94-2.06-.94 2.06-2.06.94z\"/><path d=\"M17.41 7.96l-1.37-1.37c-.4-.4-.92-.59-1.43-.59-.52 0-1.04.2-1.43.59L10.3 9.45l-7.72 7.72c-.78.78-.78 2.05 0 2.83L4 21.41c.39.39.9.59 1.41.59.51 0 1.02-.2 1.41-.59l7.78-7.78 2.81-2.81c.8-.78.8-2.07 0-2.86zM5.41 20L4 18.59l7.72-7.72 1.47 1.35L5.41 20z\"/>\n",
              "  </svg>\n",
              "      </button>\n",
              "      \n",
              "  <style>\n",
              "    .colab-df-container {\n",
              "      display:flex;\n",
              "      flex-wrap:wrap;\n",
              "      gap: 12px;\n",
              "    }\n",
              "\n",
              "    .colab-df-convert {\n",
              "      background-color: #E8F0FE;\n",
              "      border: none;\n",
              "      border-radius: 50%;\n",
              "      cursor: pointer;\n",
              "      display: none;\n",
              "      fill: #1967D2;\n",
              "      height: 32px;\n",
              "      padding: 0 0 0 0;\n",
              "      width: 32px;\n",
              "    }\n",
              "\n",
              "    .colab-df-convert:hover {\n",
              "      background-color: #E2EBFA;\n",
              "      box-shadow: 0px 1px 2px rgba(60, 64, 67, 0.3), 0px 1px 3px 1px rgba(60, 64, 67, 0.15);\n",
              "      fill: #174EA6;\n",
              "    }\n",
              "\n",
              "    [theme=dark] .colab-df-convert {\n",
              "      background-color: #3B4455;\n",
              "      fill: #D2E3FC;\n",
              "    }\n",
              "\n",
              "    [theme=dark] .colab-df-convert:hover {\n",
              "      background-color: #434B5C;\n",
              "      box-shadow: 0px 1px 3px 1px rgba(0, 0, 0, 0.15);\n",
              "      filter: drop-shadow(0px 1px 2px rgba(0, 0, 0, 0.3));\n",
              "      fill: #FFFFFF;\n",
              "    }\n",
              "  </style>\n",
              "\n",
              "      <script>\n",
              "        const buttonEl =\n",
              "          document.querySelector('#df-984060ef-0191-4304-9212-93acde0a7469 button.colab-df-convert');\n",
              "        buttonEl.style.display =\n",
              "          google.colab.kernel.accessAllowed ? 'block' : 'none';\n",
              "\n",
              "        async function convertToInteractive(key) {\n",
              "          const element = document.querySelector('#df-984060ef-0191-4304-9212-93acde0a7469');\n",
              "          const dataTable =\n",
              "            await google.colab.kernel.invokeFunction('convertToInteractive',\n",
              "                                                     [key], {});\n",
              "          if (!dataTable) return;\n",
              "\n",
              "          const docLinkHtml = 'Like what you see? Visit the ' +\n",
              "            '<a target=\"_blank\" href=https://colab.research.google.com/notebooks/data_table.ipynb>data table notebook</a>'\n",
              "            + ' to learn more about interactive tables.';\n",
              "          element.innerHTML = '';\n",
              "          dataTable['output_type'] = 'display_data';\n",
              "          await google.colab.output.renderOutput(dataTable, element);\n",
              "          const docLink = document.createElement('div');\n",
              "          docLink.innerHTML = docLinkHtml;\n",
              "          element.appendChild(docLink);\n",
              "        }\n",
              "      </script>\n",
              "    </div>\n",
              "  </div>\n",
              "  "
            ]
          },
          "metadata": {},
          "execution_count": 5
        }
      ],
      "source": [
        "df.head()"
      ]
    },
    {
      "cell_type": "code",
      "execution_count": null,
      "id": "d5b896ad",
      "metadata": {
        "colab": {
          "base_uri": "https://localhost:8080/"
        },
        "id": "d5b896ad",
        "outputId": "03a10f5a-082c-4587-887f-21ca6482532b"
      },
      "outputs": [
        {
          "output_type": "stream",
          "name": "stderr",
          "text": [
            "/usr/local/lib/python3.7/dist-packages/IPython/core/interactiveshell.py:2882: DtypeWarning: Columns (0) have mixed types.Specify dtype option on import or set low_memory=False.\n",
            "  exec(code_obj, self.user_global_ns, self.user_ns)\n"
          ]
        }
      ],
      "source": [
        "test_data = pd.read_csv('/content/drive/MyDrive/1Project/Model/test.csv')"
      ]
    },
    {
      "cell_type": "code",
      "execution_count": null,
      "id": "3641983a",
      "metadata": {
        "id": "3641983a"
      },
      "outputs": [],
      "source": [
        "valid_data = pd.read_csv('/content/drive/MyDrive/1Project/Model/valid.csv')"
      ]
    },
    {
      "cell_type": "code",
      "execution_count": null,
      "id": "6ac8c490",
      "metadata": {
        "colab": {
          "base_uri": "https://localhost:8080/"
        },
        "id": "6ac8c490",
        "outputId": "d149adc5-f557-4703-9435-fc58c614c711"
      },
      "outputs": [
        {
          "output_type": "execute_result",
          "data": {
            "text/plain": [
              "3563475"
            ]
          },
          "metadata": {},
          "execution_count": 8
        }
      ],
      "source": [
        "test_data.shape[0]"
      ]
    },
    {
      "cell_type": "code",
      "execution_count": null,
      "id": "b5c7cb2a",
      "metadata": {
        "id": "b5c7cb2a"
      },
      "outputs": [],
      "source": [
        "X_train = df.iloc[:,:5].values\n",
        "Y_train = df.iloc[:,5:].values"
      ]
    },
    {
      "cell_type": "code",
      "execution_count": null,
      "id": "09829723",
      "metadata": {
        "id": "09829723"
      },
      "outputs": [],
      "source": [
        "Y_val = valid_data.iloc[:,5:].values\n"
      ]
    },
    {
      "cell_type": "code",
      "execution_count": null,
      "id": "82e52b7e",
      "metadata": {
        "id": "82e52b7e"
      },
      "outputs": [],
      "source": [
        "X_testq1 = test_data.iloc[:1000,1:2].values\n",
        "X_testq2 = test_data.iloc[:1000, 2:].values"
      ]
    },
    {
      "cell_type": "code",
      "execution_count": null,
      "id": "ec3fdb99",
      "metadata": {
        "id": "ec3fdb99"
      },
      "outputs": [],
      "source": [
        "s1 = X_train[:,3]\n",
        "s2 = X_train[:,4]"
      ]
    },
    {
      "cell_type": "markdown",
      "id": "9b252e3b",
      "metadata": {
        "id": "9b252e3b"
      },
      "source": [
        "# Preprocessing"
      ]
    },
    {
      "cell_type": "code",
      "execution_count": null,
      "id": "280fa204",
      "metadata": {
        "id": "280fa204"
      },
      "outputs": [],
      "source": [
        "def tokenize(s):\n",
        "    tokens = []\n",
        "    tokens = [word_tokenize(str(sentence)) for sentence in s]\n",
        "\n",
        "    rm1 = []\n",
        "    for w in tokens:\n",
        "        sm = re.sub('[^A-Za-z]',' ', str(w))\n",
        "        x = re.split(\"\\s\", sm)\n",
        "        rm1.append(x)\n",
        "        \n",
        "    return rm1\n"
      ]
    },
    {
      "cell_type": "code",
      "execution_count": null,
      "id": "b5f451ab",
      "metadata": {
        "id": "b5f451ab"
      },
      "outputs": [],
      "source": [
        "def lower_case(s):\n",
        "    #Removing whitespaces    \n",
        "    for sent in s:\n",
        "        while '' in sent:\n",
        "            sent.remove('')\n",
        "\n",
        "    # Lowercasing\n",
        "    low = []\n",
        "    for i in s:\n",
        "        i = [x.lower() for x in i]\n",
        "        low.append(i)\n",
        "        \n",
        "    return low"
      ]
    },
    {
      "cell_type": "code",
      "execution_count": null,
      "id": "a7fa7f58",
      "metadata": {
        "id": "a7fa7f58"
      },
      "outputs": [],
      "source": [
        "def lemmatize(s):\n",
        "    lemma = []\n",
        "    wnl = WordNetLemmatizer()\n",
        "    for doc in s:\n",
        "        tokens = [wnl.lemmatize(w) for w in doc]\n",
        "        lemma.append(tokens)\n",
        "\n",
        "    # Removing Stopwords\n",
        "    filter_words = []\n",
        "    Stopwords = set(stopwords.words('english'))\n",
        "\n",
        "    #ab = spell('nd')\n",
        "    for sent in lemma:\n",
        "        tokens = [w for w in sent if w not in Stopwords]\n",
        "        filter_words.append(tokens)\n",
        "\n",
        "    space = ' ' \n",
        "    sentences = []\n",
        "    for sentence in filter_words:\n",
        "        sentences.append(space.join(sentence))\n",
        "        \n",
        "    return sentences"
      ]
    },
    {
      "cell_type": "code",
      "execution_count": null,
      "id": "9950269e",
      "metadata": {
        "id": "9950269e"
      },
      "outputs": [],
      "source": [
        "MAX_NB_WORDS = 200000\n",
        "tokenizer = Tokenizer(num_words = MAX_NB_WORDS)\n",
        "tokenizer.fit_on_texts(list(df['question1'].values.astype(str))+list(df['question2'].values.astype(str)))"
      ]
    },
    {
      "cell_type": "code",
      "execution_count": null,
      "id": "7a7cd6cd",
      "metadata": {
        "id": "7a7cd6cd"
      },
      "outputs": [],
      "source": [
        "# X_train_q1 = tokenizer.texts_to_sequences(np.array(listq1))\n",
        "X_train_q1 = tokenizer.texts_to_sequences(df['question1'].values.astype(str))\n",
        "X_train_q1 = pad_sequences(X_train_q1, maxlen = 30, padding='post')\n",
        "\n",
        "# X_train_q2 = tokenizer.texts_to_sequences(np.array(listq2))\n",
        "X_train_q2 = tokenizer.texts_to_sequences(df['question2'].values.astype(str))\n",
        "X_train_q2 = pad_sequences(X_train_q2, maxlen = 30, padding='post')"
      ]
    },
    {
      "cell_type": "markdown",
      "id": "a390c321",
      "metadata": {
        "id": "a390c321"
      },
      "source": [
        "# Validation Data"
      ]
    },
    {
      "cell_type": "code",
      "execution_count": null,
      "id": "b157eb29",
      "metadata": {
        "id": "b157eb29"
      },
      "outputs": [],
      "source": [
        "# X_train_q1 = tokenizer.texts_to_sequences(np.array(listq1))\n",
        "X_val_q1 = tokenizer.texts_to_sequences(valid_data['question1'].values.astype(str))\n",
        "X_val_q1 = pad_sequences(X_train_q1, maxlen = 30, padding='post')\n",
        "\n",
        "# X_train_q2 = tokenizer.texts_to_sequences(np.array(listq2))\n",
        "X_val_q2 = tokenizer.texts_to_sequences(valid_data['question2'].values.astype(str))\n",
        "X_val_q2 = pad_sequences(X_train_q2, maxlen = 30, padding='post')"
      ]
    },
    {
      "cell_type": "code",
      "execution_count": null,
      "id": "62ab715a",
      "metadata": {
        "id": "62ab715a"
      },
      "outputs": [],
      "source": [
        "X_test_q1 = tokenizer.texts_to_sequences(X_testq1.ravel())\n",
        "X_test_q1 = pad_sequences(X_test_q1,maxlen = 30, padding='post')\n",
        "\n",
        "X_test_q2 = tokenizer.texts_to_sequences(X_testq2.astype(str).ravel())\n",
        "X_test_q2 = pad_sequences(X_test_q2, maxlen = 30, padding='post')"
      ]
    },
    {
      "cell_type": "code",
      "execution_count": null,
      "id": "0910d675",
      "metadata": {
        "id": "0910d675"
      },
      "outputs": [],
      "source": [
        "word_index = tokenizer.word_index"
      ]
    },
    {
      "cell_type": "markdown",
      "id": "6c3d11ad",
      "metadata": {
        "id": "6c3d11ad"
      },
      "source": [
        "# Load word embedding"
      ]
    },
    {
      "cell_type": "code",
      "execution_count": null,
      "id": "f0a14608",
      "metadata": {
        "id": "f0a14608"
      },
      "outputs": [],
      "source": [
        "embedding_index = {}\n",
        "with open('/content/drive/MyDrive/1Project/Model/glove.6B.100d.txt','r') as f:\n",
        "    for line in f:\n",
        "        values = line.split()\n",
        "        word = values[0]\n",
        "        vectors = np.asarray(values[1:], 'float32')\n",
        "        embedding_index[word] = vectors\n",
        "    f.close()"
      ]
    },
    {
      "cell_type": "code",
      "execution_count": null,
      "id": "f4323ad8",
      "metadata": {
        "id": "f4323ad8"
      },
      "outputs": [],
      "source": [
        "embedding_matrix = np.random.random((len(word_index)+1, 100))\n",
        "for word, i in word_index.items():\n",
        "    embedding_vector = embedding_index.get(word)\n",
        "    if embedding_vector is not None:\n",
        "        embedding_matrix[i] = embedding_vector"
      ]
    },
    {
      "cell_type": "markdown",
      "id": "92523578",
      "metadata": {
        "id": "92523578"
      },
      "source": [
        "# Model creation"
      ]
    },
    {
      "cell_type": "code",
      "execution_count": null,
      "id": "9350ecd3",
      "metadata": {
        "id": "9350ecd3"
      },
      "outputs": [],
      "source": [
        "# Model for Q1\n",
        "import tensorflow as tf\n",
        "from tensorflow.keras.layers import BatchNormalization\n",
        "model_q1 = tf.keras.Sequential()\n",
        "model_q1.add(Embedding(input_dim = len(word_index)+1,\n",
        "                       output_dim = 100,\n",
        "                      weights = [embedding_matrix],\n",
        "                      input_length = 30))\n",
        "model_q1.add(LSTM(128, activation = 'tanh', return_sequences = True))\n",
        "model_q1.add(Dropout(0.2))\n",
        "model_q1.add(LSTM(128, return_sequences = True))\n",
        "model_q1.add(LSTM(128))\n",
        "model_q1.add(Dense(60, activation = 'tanh'))\n",
        "model_q1.add(Dense(2, activation = 'sigmoid'))\n"
      ]
    },
    {
      "cell_type": "code",
      "execution_count": null,
      "id": "13a6183f",
      "metadata": {
        "id": "13a6183f"
      },
      "outputs": [],
      "source": [
        "# Model for Q2\n",
        "model_q2 = tf.keras.Sequential()\n",
        "model_q2.add(Embedding(input_dim = len(word_index)+1,\n",
        "                       output_dim = 100,\n",
        "                      weights = [embedding_matrix],\n",
        "                      input_length = 30))\n",
        "model_q2.add(LSTM(128, activation = 'tanh', return_sequences = True))\n",
        "model_q2.add(Dropout(0.2))\n",
        "model_q2.add(LSTM(128, return_sequences = True))\n",
        "model_q2.add(LSTM(128))\n",
        "model_q2.add(Dense(60, activation = 'tanh'))\n",
        "model_q2.add(Dense(2, activation = 'sigmoid'))"
      ]
    },
    {
      "cell_type": "code",
      "execution_count": null,
      "id": "d564ef01",
      "metadata": {
        "id": "d564ef01"
      },
      "outputs": [],
      "source": [
        "# Merging the output of the two models,i.e, model_q1 and model_q2\n",
        "mergedOut = Multiply()([model_q1.output, model_q2.output])\n",
        "\n",
        "mergedOut = Flatten()(mergedOut)\n",
        "mergedOut = Dense(100, activation = 'relu')(mergedOut)\n",
        "mergedOut = Dropout(0.2)(mergedOut)\n",
        "mergedOut = Dense(50, activation = 'relu')(mergedOut)\n",
        "mergedOut = Dropout(0.2)(mergedOut)\n",
        "mergedOut = Dense(2, activation = 'sigmoid')(mergedOut)"
      ]
    },
    {
      "cell_type": "code",
      "execution_count": null,
      "id": "27acd18a",
      "metadata": {
        "colab": {
          "base_uri": "https://localhost:8080/"
        },
        "id": "27acd18a",
        "outputId": "ad991570-5fc1-46c2-f6dc-25da752f24dc"
      },
      "outputs": [
        {
          "output_type": "stream",
          "name": "stdout",
          "text": [
            "Epoch 1/10\n",
            "50/50 [==============================] - 490s 10s/step - loss: 0.6639 - accuracy: 0.6268 - val_loss: 0.6607 - val_accuracy: 0.6275\n",
            "Epoch 2/10\n",
            "50/50 [==============================] - 481s 10s/step - loss: 0.6538 - accuracy: 0.6275 - val_loss: 0.6413 - val_accuracy: 0.6275\n",
            "Epoch 3/10\n",
            "50/50 [==============================] - 472s 9s/step - loss: 0.6193 - accuracy: 0.6405 - val_loss: 0.5875 - val_accuracy: 0.6791\n",
            "Epoch 4/10\n",
            "50/50 [==============================] - 472s 9s/step - loss: 0.5679 - accuracy: 0.7057 - val_loss: 0.5344 - val_accuracy: 0.7365\n",
            "Epoch 5/10\n",
            "50/50 [==============================] - 478s 10s/step - loss: 0.5292 - accuracy: 0.7407 - val_loss: 0.5131 - val_accuracy: 0.7528\n",
            "Epoch 6/10\n",
            "50/50 [==============================] - 479s 10s/step - loss: 0.4999 - accuracy: 0.7628 - val_loss: 0.4706 - val_accuracy: 0.7816\n",
            "Epoch 7/10\n",
            "50/50 [==============================] - 480s 10s/step - loss: 0.4678 - accuracy: 0.7841 - val_loss: 0.4382 - val_accuracy: 0.8049\n",
            "Epoch 8/10\n",
            "50/50 [==============================] - 475s 10s/step - loss: 0.4397 - accuracy: 0.8022 - val_loss: 0.4037 - val_accuracy: 0.8243\n",
            "Epoch 9/10\n",
            "50/50 [==============================] - 475s 10s/step - loss: 0.4064 - accuracy: 0.8211 - val_loss: 0.3702 - val_accuracy: 0.8417\n",
            "Epoch 10/10\n",
            "50/50 [==============================] - 476s 10s/step - loss: 0.3802 - accuracy: 0.8366 - val_loss: 0.3477 - val_accuracy: 0.8548\n"
          ]
        }
      ],
      "source": [
        "new_model = Model([model_q1.input, model_q2.input], mergedOut)\n",
        "new_model.compile(optimizer = 'adam', loss = 'sparse_categorical_crossentropy',\n",
        "                 metrics = ['accuracy'])\n",
        "history = new_model.fit([X_train_q1,X_train_q2],Y_train, batch_size = 2000, validation_data= ([X_val_q1,X_val_q2],Y_val), epochs = 10)"
      ]
    },
    {
      "cell_type": "markdown",
      "id": "36639841",
      "metadata": {
        "id": "36639841"
      },
      "source": [
        "# Model evaluation"
      ]
    },
    {
      "cell_type": "code",
      "execution_count": null,
      "id": "c618cfea",
      "metadata": {
        "colab": {
          "base_uri": "https://localhost:8080/"
        },
        "id": "c618cfea",
        "outputId": "b1d189f5-80c1-4657-e5a1-a1dfcaa3838e"
      },
      "outputs": [
        {
          "output_type": "stream",
          "name": "stdout",
          "text": [
            "3125/3125 [==============================] - 157s 50ms/step - loss: 0.3477 - accuracy: 0.8548\n",
            "Test set\n",
            "  Loss: 0.348\n",
            "  Accuracy: 0.855\n"
          ]
        }
      ],
      "source": [
        "accr = new_model.evaluate([X_val_q1,X_val_q2],Y_val)\n",
        "print('Test set\\n  Loss: {:0.3f}\\n  Accuracy: {:0.3f}'.format(accr[0],accr[1]))"
      ]
    },
    {
      "cell_type": "code",
      "execution_count": null,
      "id": "f3747c7c",
      "metadata": {
        "colab": {
          "base_uri": "https://localhost:8080/",
          "height": 610
        },
        "id": "f3747c7c",
        "outputId": "af277dc6-a04e-4e97-c28c-162db938e509"
      },
      "outputs": [
        {
          "output_type": "execute_result",
          "data": {
            "text/plain": [
              "<Figure size 432x288 with 0 Axes>"
            ]
          },
          "metadata": {},
          "execution_count": 29
        },
        {
          "output_type": "display_data",
          "data": {
            "text/plain": [
              "<Figure size 432x288 with 1 Axes>"
            ],
            "image/png": "[encoded data removed]"
          },
          "metadata": {
            "needs_background": "light"
          }
        },
        {
          "output_type": "display_data",
          "data": {
            "text/plain": [
              "<Figure size 432x288 with 1 Axes>"
            ],
            "image/png": "[encoded data removed]"
          },
          "metadata": {
            "needs_background": "light"
          }
        },
        {
          "output_type": "display_data",
          "data": {
            "text/plain": [
              "<Figure size 432x288 with 0 Axes>"
            ]
          },
          "metadata": {}
        }
      ],
      "source": [
        "import matplotlib.image  as mpimg\n",
        "import matplotlib.pyplot as plt\n",
        "\n",
        "acc=history.history['accuracy']\n",
        "val_acc=history.history['val_accuracy']\n",
        "loss=history.history['loss']\n",
        "val_loss=history.history['val_loss']\n",
        "\n",
        "epochs=range(len(acc)) # Get number of epochs\n",
        "\n",
        "# Plot training and validation accuracy per epoch\n",
        "plt.plot(epochs, acc, 'r')\n",
        "plt.plot(epochs, val_acc, 'b')\n",
        "plt.title('Training and validation accuracy')\n",
        "plt.xlabel(\"Epochs\")\n",
        "plt.ylabel(\"Accuracy\")\n",
        "plt.legend([\"Accuracy\", \"Validation Accuracy\"])\n",
        "plt.figure()\n",
        "\n",
        "# Plot training and validation loss per epoch\n",
        "plt.plot(epochs, loss, 'r')\n",
        "plt.plot(epochs, val_loss, 'b')\n",
        "plt.title('Training and validation loss')\n",
        "plt.xlabel(\"Epochs\")\n",
        "plt.ylabel(\"Loss\")\n",
        "plt.legend([\"Loss\", \"Validation Loss\"])\n",
        "plt.figure()"
      ]
    },
    {
      "cell_type": "markdown",
      "id": "46362d42",
      "metadata": {
        "id": "46362d42"
      },
      "source": [
        "# Save Trained Model"
      ]
    },
    {
      "cell_type": "code",
      "execution_count": null,
      "id": "73b1fbcc",
      "metadata": {
        "id": "73b1fbcc"
      },
      "outputs": [],
      "source": [
        "new_model.save('/content/drive/MyDrive/1Project/Model/answer_classifer.h5')"
      ]
    },
    {
      "cell_type": "code",
      "execution_count": null,
      "id": "1a2ec444",
      "metadata": {
        "colab": {
          "base_uri": "https://localhost:8080/"
        },
        "id": "1a2ec444",
        "outputId": "d00182b7-6aa1-45be-f392-ffa2453cfb09"
      },
      "outputs": [
        {
          "output_type": "stream",
          "name": "stdout",
          "text": [
            "1/1 [==============================] - 4s 4s/step\n",
            "1/1 [==============================] - 1s 1s/step\n"
          ]
        }
      ],
      "source": [
        "y_pred = new_model.predict([X_test_q1, X_test_q2], batch_size=2000, verbose=1)\n",
        "y_pred += new_model.predict([X_test_q1, X_test_q2], batch_size=2000, verbose=1)\n",
        " "
      ]
    },
    {
      "cell_type": "code",
      "execution_count": null,
      "id": "dea119d6",
      "metadata": {
        "id": "dea119d6"
      },
      "outputs": [],
      "source": [
        "y_pred = new_model.predict([X_test_q1, X_test_q2])"
      ]
    },
    {
      "cell_type": "markdown",
      "id": "31cb6933",
      "metadata": {
        "id": "31cb6933"
      },
      "source": [
        "# Load Saved Model"
      ]
    },
    {
      "cell_type": "code",
      "execution_count": null,
      "id": "0b99c8bc",
      "metadata": {
        "id": "0b99c8bc"
      },
      "outputs": [],
      "source": [
        "from keras.models import load_model\n",
        "from keras.preprocessing.image import ImageDataGenerator, img_to_array, load_img \n",
        "import datetime\n",
        "import time\n",
        "from tensorflow.keras.preprocessing.text import Tokenizer\n",
        "from tensorflow.keras.preprocessing.sequence import pad_sequences\n",
        "model=load_model('/content/drive/MyDrive/1Project/Model/answer_classifer.h5')"
      ]
    },
    {
      "cell_type": "code",
      "execution_count": null,
      "id": "3d3e3289",
      "metadata": {
        "id": "3d3e3289"
      },
      "outputs": [],
      "source": [
        "tokenizer = Tokenizer()\n",
        "def predict_text(q1,q2):\n",
        "    X_test_q1 = tokenizer.texts_to_sequences(q1)\n",
        "    X_test_q1 = pad_sequences(X_test_q1,maxlen = 30, padding='post')\n",
        "    \n",
        "    X_test_q2 = tokenizer.texts_to_sequences(q2)\n",
        "    X_test_q2 = pad_sequences(X_test_q1,maxlen = 30, padding='post')\n",
        "    prediction=model.predict([X_test_q1,X_test_q2])\n",
        "    print(prediction)\n",
        "    overall=((prediction[0][0]+prediction[0][1])/2)\n",
        "    print(overall)\n",
        "\n",
        " "
      ]
    },
    {
      "cell_type": "code",
      "execution_count": null,
      "id": "fdccbb19",
      "metadata": {
        "colab": {
          "base_uri": "https://localhost:8080/"
        },
        "id": "fdccbb19",
        "outputId": "2436699d-3d42-4472-f460-8717d26ff6f7"
      },
      "outputs": [
        {
          "output_type": "stream",
          "name": "stdout",
          "text": [
            "[[0.40160695 0.49824008]]\n",
            "0.4499235153198242\n"
          ]
        }
      ],
      "source": [
        "q1=[\"in the developing world Computer Interacting education is vastly improving area.\"]\n",
        "q2=[\"The integration of AR to the leaning process of a university, drives unparalleled attention from students.\"]\n",
        "predict_text(q1,q2)"
      ]
    },
    {
      "cell_type": "code",
      "execution_count": null,
      "id": "f39abfd7",
      "metadata": {
        "id": "f39abfd7"
      },
      "outputs": [],
      "source": [
        ""
      ]
    }
  ],
  "metadata": {
    "kernelspec": {
      "display_name": "Python 3 (ipykernel)",
      "language": "python",
      "name": "python3"
    },
    "language_info": {
      "codemirror_mode": {
        "name": "ipython",
        "version": 3
      },
      "file_extension": ".py",
      "mimetype": "text/x-python",
      "name": "python",
      "nbconvert_exporter": "python",
      "pygments_lexer": "ipython3",
      "version": "3.7.3"
    },
    "colab": {
      "name": "kera.ipynb",
      "provenance": [],
      "include_colab_link": true
    }
  },
  "nbformat": 4,
  "nbformat_minor": 5
}